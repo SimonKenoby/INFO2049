{
 "cells": [
  {
   "cell_type": "code",
   "execution_count": 58,
   "metadata": {},
   "outputs": [],
   "source": [
    "import nltk\n",
    "from nltk.corpus import stopwords\n",
    "import os\n",
    "import numpy as np\n",
    "import string"
   ]
  },
  {
   "cell_type": "code",
   "execution_count": 23,
   "metadata": {},
   "outputs": [],
   "source": [
    "pos_files = []\n",
    "for root, dirs, files in os.walk(\"review_polarity/txt_sentoken/pos\"):  \n",
    "    for filename in files:\n",
    "        if '.txt' in filename:\n",
    "            pos_files.append(filename)\n",
    "neg_files = []\n",
    "for root, dirs, files in os.walk(\"review_polarity/txt_sentoken/neg\"):  \n",
    "    for filename in files:\n",
    "        if '.txt' in filename:\n",
    "            neg_files.append(filename)"
   ]
  },
  {
   "cell_type": "code",
   "execution_count": 24,
   "metadata": {},
   "outputs": [],
   "source": [
    "pos_sentences = []\n",
    "for filename in pos_files:\n",
    "    with open('review_polarity/txt_sentoken/pos/'+filename) as f:\n",
    "        pos_sentences.append(f.read())"
   ]
  },
  {
   "cell_type": "code",
   "execution_count": 29,
   "metadata": {},
   "outputs": [],
   "source": [
    "neg_sentences = []\n",
    "for filename in neg_files:\n",
    "    with open('review_polarity/txt_sentoken/neg/'+filename) as f:\n",
    "        neg_sentences.append(f.read())"
   ]
  },
  {
   "cell_type": "code",
   "execution_count": 59,
   "metadata": {},
   "outputs": [],
   "source": [
    "stopword = set(stopwords.words('english'))\n",
    "punctuat = set(string.punctuation)"
   ]
  },
  {
   "cell_type": "code",
   "execution_count": 36,
   "metadata": {},
   "outputs": [],
   "source": [
    "word = pos_sentences[0]"
   ]
  },
  {
   "cell_type": "code",
   "execution_count": 60,
   "metadata": {},
   "outputs": [],
   "source": [
    "word_tokens = nltk.word_tokenize(word) "
   ]
  },
  {
   "cell_type": "code",
   "execution_count": 64,
   "metadata": {},
   "outputs": [],
   "source": [
    "filtered_sentence = [w for w in word_tokens if not w in stopword]\n",
    "filtered_sentence = [w for w in word_tokens if not w in punctuat]"
   ]
  },
  {
   "cell_type": "code",
   "execution_count": 75,
   "metadata": {},
   "outputs": [],
   "source": [
    "filterd = []\n",
    "y = []\n",
    "for sentence in pos_sentences:\n",
    "    word_tokens = nltk.word_tokenize(sentence) \n",
    "    filtered_sentence = [w.lower() for w in word_tokens if not w in stopword]\n",
    "    filtered_sentence = [w.lower() for w in word_tokens if not w in punctuat]\n",
    "    filterd.append(filtered_sentence)\n",
    "    y.append(1)\n",
    "for sentence in neg_sentences:\n",
    "    word_tokens = nltk.word_tokenize(sentence) \n",
    "    filtered_sentence = [w.lower() for w in word_tokens if not w in stopword]\n",
    "    filtered_sentence = [w.lower() for w in word_tokens if not w in punctuat]\n",
    "    filterd.append(filtered_sentence)\n",
    "    y.append(0)"
   ]
  },
  {
   "cell_type": "code",
   "execution_count": null,
   "metadata": {},
   "outputs": [],
   "source": []
  }
 ],
 "metadata": {
  "kernelspec": {
   "display_name": "Python 3",
   "language": "python",
   "name": "python3"
  },
  "language_info": {
   "codemirror_mode": {
    "name": "ipython",
    "version": 3
   },
   "file_extension": ".py",
   "mimetype": "text/x-python",
   "name": "python",
   "nbconvert_exporter": "python",
   "pygments_lexer": "ipython3",
   "version": "3.6.6"
  }
 },
 "nbformat": 4,
 "nbformat_minor": 2
}
